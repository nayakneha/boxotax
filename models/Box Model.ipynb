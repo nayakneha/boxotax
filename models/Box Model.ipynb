{
 "cells": [
  {
   "cell_type": "code",
   "execution_count": null,
   "metadata": {},
   "outputs": [],
   "source": [
    "import box_lib\n",
    "import torch\n",
    "import torch.nn as nn\n",
    "from torch.utils.data import Dataset, DataLoader\n",
    "from IPython.core.debugger import set_trace\n",
    "import numpy as np\n",
    "\n",
    "\n",
    "\n",
    "def main():\n",
    "  np.random.seed(89)\n",
    "  torch.manual_seed(43)\n",
    "\n",
    "  train_ds = box_lib.BoxDataset(\"data/sample/train.txt\")\n",
    "  train_dl = DataLoader(train_ds, batch_size=18, shuffle=True, num_workers=4)\n",
    "\n",
    "  model = box_lib.Boxes(6,4)\n",
    "  criterion = nn.MSELoss()\n",
    "  optimizer = torch.optim.Adam(model.parameters(), lr=0.001)\n",
    "\n",
    "\n",
    "  N_EPOCHS = 200\n",
    "\n",
    "  for epoch in range(N_EPOCHS):\n",
    "      \n",
    "      # Train\n",
    "      model.train()  # IMPORTANT\n",
    "      \n",
    "      running_loss, correct = 0.0, 0\n",
    "      for X, y in train_dl:\n",
    "        #set_trace()\n",
    "        #X, y = X.to(device), y.to(device)\n",
    "\n",
    "        optimizer.zero_grad()\n",
    "        with torch.set_grad_enabled(True):\n",
    "          y_ = model(X)\n",
    "          loss = criterion(y_, y)\n",
    "        optimizer.step()\n",
    "        \n",
    "        # Statistics\n",
    "        print(\"    batch loss: \"+str(loss.item()))\n",
    "        running_loss += loss.item() * X.shape[0]\n",
    "\n",
    "      print(\"  Train Loss: \"+str(running_loss / len(train_dl.dataset)))\n",
    "      print(\"  Train Acc:  \"+str(correct / len(train_dl.dataset)))\n",
    "      \n",
    "\n",
    "if __name__ == \"__main__\":\n",
    "  main()\n"
   ]
  }
 ],
 "metadata": {
  "kernelspec": {
   "display_name": "Python 2",
   "language": "python",
   "name": "python2"
  },
  "language_info": {
   "codemirror_mode": {
    "name": "ipython",
    "version": 2
   },
   "file_extension": ".py",
   "mimetype": "text/x-python",
   "name": "python",
   "nbconvert_exporter": "python",
   "pygments_lexer": "ipython2",
   "version": "2.7.10"
  }
 },
 "nbformat": 4,
 "nbformat_minor": 2
}
